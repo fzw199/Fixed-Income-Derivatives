{
 "cells": [
  {
   "cell_type": "markdown",
   "id": "845f676c",
   "metadata": {},
   "source": [
    "## Problem Set Week 3\n",
    "### Problem 1\n",
    "Today is january 15 2017, we know the LIBOR fixings from Dec. 30 2016 and they were 3M LIBOR: 5,2% 6M, LIBOR 4,9% 12M, LIBOR 4,76%"
   ]
  },
  {
   "cell_type": "markdown",
   "id": "3e5a1f6d",
   "metadata": {},
   "source": [
    "### a) \n",
    "Set up equations for the value of both the fixed- and floating legs in terms of the LIBOR fixings\n",
    "and zero coupon bond prices for the three interest rate swaps.\n",
    "b) print rank et eller andet\n",
    "c) "
   ]
  }
 ],
 "metadata": {
  "language_info": {
   "name": "python"
  }
 },
 "nbformat": 4,
 "nbformat_minor": 5
}
