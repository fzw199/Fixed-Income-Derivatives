{
 "cells": [
  {
   "cell_type": "markdown",
   "id": "3a948b41",
   "metadata": {},
   "source": [
    "# Problem 2 – Yield Curve Construction and Swap Valuation\n",
    "\n",
    "In this problem, we work with market data (LIBOR, FRA, and swap quotes) to construct the zero-coupon yield curve, derive spot and forward rates, and use these to value floating-rate instruments and swaps.\n",
    "\n",
    "We use the Python functions provided in `fixed_income_derivatives_E2025.py`:\n",
    "- `zcb_curve_fit`: fits a zero-coupon curve to market data.\n",
    "- `zcb_curve_interpolate`: interpolates discount factors at chosen maturities.\n",
    "- `spot_rates_from_zcb_prices`: computes spot rates from discount factors.\n",
    "- `forward_libor_rates_from_zcb_prices`: computes forward LIBOR rates from discount factors.\n",
    "\n",
    "We will solve step by step:\n",
    "1. Construct the zero-coupon bond curve (discount factors).\n",
    "2. Compute spot rates and forward rates.\n",
    "3. Apply these to floating-rate notes and swaps.\n",
    "4. Calculate accrual factors, par swap rates, and DV01.\n",
    "\n",
    "Below we start with **part (a)** and **part (b)**.\n"
   ]
  },
  {
   "cell_type": "markdown",
   "id": "be47df62",
   "metadata": {},
   "source": [
    "## Part (a) – Zero-Coupon Bond Curve\n",
    "\n",
    "Using the given LIBOR, FRA, and swap quotes, we fit the zero-coupon curve.  \n",
    "The output is a curve object that allows us to compute discount factors \\(p(0,T)\\) for any maturity \\(T\\).\n"
   ]
  },
  {
   "cell_type": "code",
   "execution_count": 1,
   "id": "5001ed6d",
   "metadata": {},
   "outputs": [
    {
     "ename": "TypeError",
     "evalue": "tuple indices must be integers or slices, not str",
     "output_type": "error",
     "traceback": [
      "\u001b[0;31m---------------------------------------------------------------------------\u001b[0m",
      "\u001b[0;31mTypeError\u001b[0m                                 Traceback (most recent call last)",
      "Cell \u001b[0;32mIn[1], line 25\u001b[0m\n\u001b[1;32m     19\u001b[0m swap_quotes \u001b[38;5;241m=\u001b[39m [\n\u001b[1;32m     20\u001b[0m     \u001b[38;5;66;03m# Example: (maturity, fixed_rate)\u001b[39;00m\n\u001b[1;32m     21\u001b[0m     \u001b[38;5;66;03m# (2.0, 0.0500),\u001b[39;00m\n\u001b[1;32m     22\u001b[0m ]\n\u001b[1;32m     24\u001b[0m \u001b[38;5;66;03m# --- (a) Fit ZCB curve ---\u001b[39;00m\n\u001b[0;32m---> 25\u001b[0m curve_obj \u001b[38;5;241m=\u001b[39m zcb_curve_fit(libor_quotes, fra_quotes, swap_quotes)\n\u001b[1;32m     27\u001b[0m \u001b[38;5;66;03m# Choose maturities for evaluation (quarterly up to 10 years)\u001b[39;00m\n\u001b[1;32m     28\u001b[0m T \u001b[38;5;241m=\u001b[39m np\u001b[38;5;241m.\u001b[39mlinspace(\u001b[38;5;241m0.25\u001b[39m, \u001b[38;5;241m10.0\u001b[39m, \u001b[38;5;241m40\u001b[39m)\n",
      "File \u001b[0;32m~/Desktop/Fixed Income Derivatives/Python/Fixed-Income-Derivatives-2/PS2/fixed_income_derivatives_E2025.py:92\u001b[0m, in \u001b[0;36mzcb_curve_fit\u001b[0;34m(data_input, interpolation_options, scaling)\u001b[0m\n\u001b[1;32m     90\u001b[0m \u001b[38;5;66;03m# Separateing the data and constructing data_known from fixings\u001b[39;00m\n\u001b[1;32m     91\u001b[0m \u001b[38;5;28;01mfor\u001b[39;00m item \u001b[38;5;129;01min\u001b[39;00m data:\n\u001b[0;32m---> 92\u001b[0m     \u001b[38;5;28;01mif\u001b[39;00m item[\u001b[38;5;124m\"\u001b[39m\u001b[38;5;124minstrument\u001b[39m\u001b[38;5;124m\"\u001b[39m] \u001b[38;5;241m==\u001b[39m \u001b[38;5;124m\"\u001b[39m\u001b[38;5;124mlibor\u001b[39m\u001b[38;5;124m\"\u001b[39m:\n\u001b[1;32m     93\u001b[0m         libor_data\u001b[38;5;241m.\u001b[39mappend(item)\n\u001b[1;32m     94\u001b[0m         data_known\u001b[38;5;241m.\u001b[39mappend({\u001b[38;5;124m\"\u001b[39m\u001b[38;5;124mmaturity\u001b[39m\u001b[38;5;124m\"\u001b[39m:item[\u001b[38;5;124m\"\u001b[39m\u001b[38;5;124mmaturity\u001b[39m\u001b[38;5;124m\"\u001b[39m],\u001b[38;5;124m\"\u001b[39m\u001b[38;5;124mrate\u001b[39m\u001b[38;5;124m\"\u001b[39m:np\u001b[38;5;241m.\u001b[39mlog(\u001b[38;5;241m1\u001b[39m\u001b[38;5;241m+\u001b[39mitem[\u001b[38;5;124m\"\u001b[39m\u001b[38;5;124mrate\u001b[39m\u001b[38;5;124m\"\u001b[39m]\u001b[38;5;241m*\u001b[39mitem[\u001b[38;5;124m\"\u001b[39m\u001b[38;5;124mmaturity\u001b[39m\u001b[38;5;124m\"\u001b[39m])\u001b[38;5;241m/\u001b[39mitem[\u001b[38;5;124m\"\u001b[39m\u001b[38;5;124mmaturity\u001b[39m\u001b[38;5;124m\"\u001b[39m]})\n",
      "\u001b[0;31mTypeError\u001b[0m: tuple indices must be integers or slices, not str"
     ]
    }
   ],
   "source": [
    "import numpy as np\n",
    "from fixed_income_derivatives_E2025 import (\n",
    "    zcb_curve_fit, zcb_curve_interpolate,\n",
    "    spot_rates_from_zcb_prices\n",
    ")\n",
    "\n",
    "# --- Market data (replace with actual numbers from the problem set) ---\n",
    "libor_quotes = [\n",
    "    (0.25, 0.0520),  # 3M\n",
    "    (0.50, 0.0490),  # 6M\n",
    "    (1.00, 0.0476)   # 12M\n",
    "]\n",
    "\n",
    "fra_quotes = [\n",
    "    # Example: (start, end, rate)\n",
    "    # (0.25, 0.50, 0.0485),\n",
    "]\n",
    "\n",
    "swap_quotes = [\n",
    "    # Example: (maturity, fixed_rate)\n",
    "    # (2.0, 0.0500),\n",
    "]\n",
    "\n",
    "# --- (a) Fit ZCB curve ---\n",
    "curve_obj = zcb_curve_fit(libor_quotes, fra_quotes, swap_quotes)\n",
    "\n",
    "# Choose maturities for evaluation (quarterly up to 10 years)\n",
    "T = np.linspace(0.25, 10.0, 40)\n",
    "p = zcb_curve_interpolate(curve_obj, T)\n",
    "\n",
    "# --- (b) Compute spot rates from discount factors ---\n",
    "spot = spot_rates_from_zcb_prices(T, p)\n",
    "\n",
    "# Display a few results\n",
    "for ti, pi, ri in zip(T[:5], p[:5], spot[:5]):\n",
    "    print(f\"T={ti:.2f} | p(0,T)={pi:.6f} | Spot={ri:.4%}\")\n"
   ]
  }
 ],
 "metadata": {
  "kernelspec": {
   "display_name": "base",
   "language": "python",
   "name": "python3"
  },
  "language_info": {
   "codemirror_mode": {
    "name": "ipython",
    "version": 3
   },
   "file_extension": ".py",
   "mimetype": "text/x-python",
   "name": "python",
   "nbconvert_exporter": "python",
   "pygments_lexer": "ipython3",
   "version": "3.11.7"
  }
 },
 "nbformat": 4,
 "nbformat_minor": 5
}
