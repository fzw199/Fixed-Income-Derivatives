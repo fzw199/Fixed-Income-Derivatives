{
 "cells": [
  {
   "cell_type": "markdown",
   "id": "3d96edc5",
   "metadata": {},
   "source": [
    "## Setup\n",
    "\n",
    "Vi definerer hjælpefunktioner til prisfastsættelse, objective-funktion, første og anden afledte.  \n",
    "Disse bruges i de følgende delopgaver."
   ]
  },
  {
   "cell_type": "code",
   "execution_count": 2,
   "id": "9124d341",
   "metadata": {},
   "outputs": [],
   "source": [
    "### Step-up ###\n",
    "import numpy as np\n",
    "from scipy.optimize import minimize, Bounds\n",
    "\n",
    "def price_fixed_rate_bond_from_ytm(y, T, C):\n",
    "    price = 0\n",
    "    N = len(T)\n",
    "    for i in range(N):\n",
    "        price += C[i] / (1 + y) ** T[i]\n",
    "    return price\n",
    "\n",
    "def ytm_obj(y, pv, T, C):\n",
    "    pv_hat = price_fixed_rate_bond_from_ytm(y, T, C)\n",
    "    return (pv - pv_hat) ** 2\n",
    "\n",
    "def ytm_obj_d(y, pv, T, C):\n",
    "    N = len(T)\n",
    "    pv_hat = price_fixed_rate_bond_from_ytm(y, T, C)\n",
    "    dpv_dy = 0\n",
    "    for i in range(N):\n",
    "        dpv_dy += -C[i] * T[i] / (1 + y) ** (T[i] + 1)\n",
    "    return -2 * (pv - pv_hat) * dpv_dy\n",
    "\n",
    "def ytm_obj_dd(y, pv, T, C):\n",
    "    N = len(T)\n",
    "    pv_hat = price_fixed_rate_bond_from_ytm(y, T, C)\n",
    "    dpv_dy, ddpv_ddy = 0, 0\n",
    "    for i in range(N):\n",
    "        dpv_dy += -C[i] * T[i] / (1 + y) ** (T[i] + 1)\n",
    "        ddpv_ddy += C[i] * T[i] * (T[i] + 1) / (1 + y) ** (T[i] + 2)\n",
    "    return 2 * (pv_hat - pv) * ddpv_ddy + 2 * (dpv_dy) ** 2\n",
    "\n",
    "# inputs\n",
    "R = 0.06\n",
    "K = 100\n",
    "T_N = 10\n",
    "alpha = 0.5\n",
    "pv = 98.74\n",
    "\n",
    "N = int(T_N / alpha) + 1\n",
    "T = np.array([i * alpha for i in range(N)])\n",
    "C = np.zeros(N)\n",
    "for i in range(N):\n",
    "    C[i] += R * alpha * K\n",
    "C[-1] += K\n"
   ]
  },
  {
   "cell_type": "markdown",
   "id": "38f39422",
   "metadata": {},
   "source": [
    "## Problem 1c\n",
    "\n",
    "Vi finder yield to maturity numerisk ved to derivative-frie metoder:  \n",
    "- **Nelder–Mead**  \n",
    "- **Powell**\n",
    "\n",
    "Begge minimerer \\( SE(y) \\) uden at bruge afledte.\n",
    "\n",
    "**Nelder–Mead konvergerer til en YTM på ca. 6,7%, hvilket matcher obligationens markedspris tæt.**"
   ]
  },
  {
   "cell_type": "code",
   "execution_count": 3,
   "id": "6fa158ae",
   "metadata": {},
   "outputs": [
    {
     "name": "stdout",
     "output_type": "stream",
     "text": [
      "Nelder-Mead YTM: 0.06696093750000001\n",
      "Powell YTM: nan\n"
     ]
    },
    {
     "name": "stderr",
     "output_type": "stream",
     "text": [
      "/var/folders/gn/s5whzrvx7n1f8wsp2546vp040000gn/T/ipykernel_88611/761348549.py:9: RuntimeWarning: invalid value encountered in sqrt\n",
      "  price += C[i] / (1 + y) ** T[i]\n",
      "/var/folders/gn/s5whzrvx7n1f8wsp2546vp040000gn/T/ipykernel_88611/761348549.py:9: RuntimeWarning: invalid value encountered in power\n",
      "  price += C[i] / (1 + y) ** T[i]\n"
     ]
    }
   ],
   "source": [
    "y_init = R\n",
    "args = (pv, T, C)\n",
    "\n",
    "res_nm = minimize(ytm_obj, y_init, args=args, method=\"nelder-mead\")\n",
    "print(f\"Nelder-Mead YTM: {res_nm.x[0]}\")\n",
    "\n",
    "res_pw = minimize(ytm_obj, y_init, args=args, method=\"powell\")\n",
    "print(f\"Powell YTM: {res_pw.x[0]}\")\n"
   ]
  },
  {
   "cell_type": "markdown",
   "id": "81340eec",
   "metadata": {},
   "source": [
    "## Problem 1d\n",
    "\n",
    "Vi differentierer objective-funktionen analytisk og finder udtryk for:  \n",
    "\n",
    "- Første afledte \\( SE'(y) \\)  \n",
    "- Anden afledte \\( SE''(y) \\)  \n",
    "\n",
    "Disse bruges senere i optimeringsmetoder, der kræver gradient og Hessian.\n"
   ]
  },
  {
   "cell_type": "markdown",
   "id": "a29c46ea",
   "metadata": {},
   "source": [
    "## Problem 1e\n",
    "\n",
    "Vi bruger **BFGS**-metoden, der kræver første afledte.  \n",
    "Målet er at finde YTM hurtigere og mere præcist end med Nelder–Mead og Powell.\n",
    "\n",
    "**BFGS giver samme resultat (~6,7%), men bruger gradientinformation, hvilket gør konvergens hurtigere og mere stabil end Nelder–Mead Metoden viser, at man ved at udnytte den analytiske afledte kan forbedre beregningen. Resultatet bekræfter, at den “sande” YTM ligger lidt over kuponrenten.**"
   ]
  },
  {
   "cell_type": "code",
   "execution_count": 4,
   "id": "722b085a",
   "metadata": {},
   "outputs": [
    {
     "name": "stdout",
     "output_type": "stream",
     "text": [
      "BFGS YTM: 0.06696883208690854\n"
     ]
    }
   ],
   "source": [
    "res_bfgs = minimize(ytm_obj, y_init, args=args, method=\"BFGS\", jac=ytm_obj_d)\n",
    "print(f\"BFGS YTM: {res_bfgs.x[0]}\")\n"
   ]
  },
  {
   "cell_type": "markdown",
   "id": "2cc354e5",
   "metadata": {},
   "source": [
    "## Problem 1f\n",
    "\n",
    "Vi bruger **Newton-CG**, der anvender både første og anden afledte.  \n",
    "Det giver hurtigere konvergens tæt på optimum.\n",
    "\n",
    "**Newton-CG giver også ~6,7% og anvender både første og anden afledte. Metoden er særlig effektiv tæt på optimum, fordi Hessian-information accelererer konvergensen. At resultatet er identisk med BFGS viser, at løsningen er robust på tværs af metoder.**"
   ]
  },
  {
   "cell_type": "code",
   "execution_count": 5,
   "id": "08d0c52c",
   "metadata": {},
   "outputs": [
    {
     "name": "stdout",
     "output_type": "stream",
     "text": [
      "Newton-CG YTM: 0.06696883165863443\n"
     ]
    }
   ],
   "source": [
    "res_ncg = minimize(ytm_obj, y_init, args=args,\n",
    "                   method=\"Newton-CG\", jac=ytm_obj_d, hess=ytm_obj_dd)\n",
    "print(f\"Newton-CG YTM: {res_ncg.x[0]}\")\n"
   ]
  },
  {
   "cell_type": "markdown",
   "id": "0321ac25",
   "metadata": {},
   "source": [
    "## Problem 1g\n",
    "\n",
    "Vi bruger **trust-constr** (constrained optimization).  \n",
    "Her indfører vi et interval for yield:\n",
    "\n",
    "\\[\n",
    "y \\in [0.08, \\; 0.12]\n",
    "\\]\n",
    "\n",
    "og finder den bedste løsning inden for dette interval.\n",
    "\n",
    "**Når vi indfører intervallet [0.08, 0.12], finder algoritmen en YTM helt nede ved grænsen (0.08). Dette sker, fordi den egentlige optimum (ca. 0.067) ligger uden for det tilladte område.Resultatet illustrerer, at constraints kan tvinge løsningen væk fra det reelle optimum, hvilket er nyttigt i praksis hvis man vil modellere begrænsninger i markedet.**"
   ]
  },
  {
   "cell_type": "code",
   "execution_count": 6,
   "id": "c7359753",
   "metadata": {},
   "outputs": [
    {
     "name": "stdout",
     "output_type": "stream",
     "text": [
      "trust-constr YTM (0.08–0.12): 0.08000036691662532\n"
     ]
    }
   ],
   "source": [
    "bounds = Bounds([0.08], [0.12])\n",
    "res_tc = minimize(ytm_obj, y_init, args=args, method=\"trust-constr\",\n",
    "                  jac=ytm_obj_d, hess=ytm_obj_dd, bounds=bounds)\n",
    "print(f\"trust-constr YTM (0.08–0.12): {res_tc.x[0]}\")\n"
   ]
  }
 ],
 "metadata": {
  "kernelspec": {
   "display_name": "base",
   "language": "python",
   "name": "python3"
  },
  "language_info": {
   "codemirror_mode": {
    "name": "ipython",
    "version": 3
   },
   "file_extension": ".py",
   "mimetype": "text/x-python",
   "name": "python",
   "nbconvert_exporter": "python",
   "pygments_lexer": "ipython3",
   "version": "3.11.7"
  }
 },
 "nbformat": 4,
 "nbformat_minor": 5
}
