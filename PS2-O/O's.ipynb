{
 "cells": [
  {
   "cell_type": "markdown",
   "id": "4837dfb9",
   "metadata": {},
   "source": [
    "Hej \n",
    "test af hvor dygtig o'sen er \n",
    "hmm vi "
   ]
  }
 ],
 "metadata": {
  "language_info": {
   "name": "python"
  }
 },
 "nbformat": 4,
 "nbformat_minor": 5
}
