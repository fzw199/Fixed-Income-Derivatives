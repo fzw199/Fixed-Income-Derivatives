{
 "cells": [
  {
   "cell_type": "markdown",
   "id": "4837dfb9",
   "metadata": {},
   "source": [
    "Hej \n",
    "test af hvor dygtig o'sen er "
   ]
  }
 ],
 "metadata": {
  "language_info": {
   "name": "python"
  }
 },
 "nbformat": 4,
 "nbformat_minor": 5
}
